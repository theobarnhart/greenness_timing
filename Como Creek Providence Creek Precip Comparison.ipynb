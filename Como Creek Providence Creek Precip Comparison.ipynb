{
 "cells": [
  {
   "cell_type": "code",
   "execution_count": 1,
   "metadata": {
    "collapsed": false
   },
   "outputs": [],
   "source": [
    "import glob"
   ]
  },
  {
   "cell_type": "code",
   "execution_count": 2,
   "metadata": {
    "collapsed": false
   },
   "outputs": [],
   "source": [
    "cc = pd.read_pickle('./data/C1_chart_prec.pcl')#['1995-10-01':'2011-09-30']"
   ]
  },
  {
   "cell_type": "code",
   "execution_count": 3,
   "metadata": {
    "collapsed": false
   },
   "outputs": [
    {
     "data": {
      "text/html": [
       "<div>\n",
       "<table border=\"1\" class=\"dataframe\">\n",
       "  <thead>\n",
       "    <tr style=\"text-align: right;\">\n",
       "      <th></th>\n",
       "      <th>date</th>\n",
       "      <th>P</th>\n",
       "      <th>Qual_days</th>\n",
       "      <th>flag</th>\n",
       "    </tr>\n",
       "  </thead>\n",
       "  <tbody>\n",
       "    <tr>\n",
       "      <th>1952-10-01</th>\n",
       "      <td>1952-10-01</td>\n",
       "      <td>0.0</td>\n",
       "      <td>1.0</td>\n",
       "      <td>NaN</td>\n",
       "    </tr>\n",
       "    <tr>\n",
       "      <th>1952-10-02</th>\n",
       "      <td>1952-10-02</td>\n",
       "      <td>0.0</td>\n",
       "      <td>1.0</td>\n",
       "      <td>NaN</td>\n",
       "    </tr>\n",
       "    <tr>\n",
       "      <th>1952-10-03</th>\n",
       "      <td>1952-10-03</td>\n",
       "      <td>0.0</td>\n",
       "      <td>1.0</td>\n",
       "      <td>NaN</td>\n",
       "    </tr>\n",
       "    <tr>\n",
       "      <th>1952-10-04</th>\n",
       "      <td>1952-10-04</td>\n",
       "      <td>NaN</td>\n",
       "      <td>NaN</td>\n",
       "      <td>NaN</td>\n",
       "    </tr>\n",
       "    <tr>\n",
       "      <th>1952-10-05</th>\n",
       "      <td>1952-10-05</td>\n",
       "      <td>NaN</td>\n",
       "      <td>NaN</td>\n",
       "      <td>NaN</td>\n",
       "    </tr>\n",
       "  </tbody>\n",
       "</table>\n",
       "</div>"
      ],
      "text/plain": [
       "                  date    P  Qual_days  flag\n",
       "1952-10-01  1952-10-01  0.0        1.0   NaN\n",
       "1952-10-02  1952-10-02  0.0        1.0   NaN\n",
       "1952-10-03  1952-10-03  0.0        1.0   NaN\n",
       "1952-10-04  1952-10-04  NaN        NaN   NaN\n",
       "1952-10-05  1952-10-05  NaN        NaN   NaN"
      ]
     },
     "execution_count": 3,
     "metadata": {},
     "output_type": "execute_result"
    }
   ],
   "source": [
    "cc.head()"
   ]
  },
  {
   "cell_type": "markdown",
   "metadata": {},
   "source": [
    "There is a pattern in the data where blanks are followed by a precip value that corresponds for that day the the preceeding blanks. Loop through all these values and distribute the precip over the preceeding blank spots"
   ]
  },
  {
   "cell_type": "code",
   "execution_count": 4,
   "metadata": {
    "collapsed": false
   },
   "outputs": [
    {
     "name": "stderr",
     "output_type": "stream",
     "text": [
      "/Users/barnhatb/anaconda/lib/python2.7/site-packages/pandas/core/generic.py:2701: SettingWithCopyWarning: \n",
      "A value is trying to be set on a copy of a slice from a DataFrame.\n",
      "Try using .loc[row_indexer,col_indexer] = value instead\n",
      "\n",
      "See the caveats in the documentation: http://pandas.pydata.org/pandas-docs/stable/indexing.html#indexing-view-versus-copy\n",
      "  self[name] = value\n"
     ]
    }
   ],
   "source": [
    "cc_fill = cc\n",
    "for i in xrange(0,len(cc)):\n",
    "    \n",
    "    # skip entries that are only one day\n",
    "    if (cc.ix[i].Qual_days == 1) or (np.isnan(cc.ix[i].Qual_days) == True):\n",
    "        continue\n",
    "    else:\n",
    "        days = cc.ix[i].Qual_days\n",
    "        strt = int(i-(days-1))\n",
    "        cc.ix[strt:i+1].P = cc.ix[i].P/float(days)\n",
    "        cc.ix[strt:i+1].Qual_days = 1."
   ]
  },
  {
   "cell_type": "markdown",
   "metadata": {},
   "source": [
    "## Read in Jemez Raws"
   ]
  },
  {
   "cell_type": "code",
   "execution_count": 5,
   "metadata": {
    "collapsed": true
   },
   "outputs": [],
   "source": [
    "jmz = pd.read_pickle('../RHESSys/jemez/data/Jemez_raws_wy2003_2015.pcl')"
   ]
  },
  {
   "cell_type": "code",
   "execution_count": 6,
   "metadata": {
    "collapsed": false
   },
   "outputs": [
    {
     "data": {
      "text/html": [
       "<div>\n",
       "<table border=\"1\" class=\"dataframe\">\n",
       "  <thead>\n",
       "    <tr style=\"text-align: right;\">\n",
       "      <th></th>\n",
       "      <th>date</th>\n",
       "      <th>year</th>\n",
       "      <th>doy</th>\n",
       "      <th>dor</th>\n",
       "      <th>Tave</th>\n",
       "      <th>Tmax</th>\n",
       "      <th>Tmin</th>\n",
       "      <th>P</th>\n",
       "    </tr>\n",
       "  </thead>\n",
       "  <tbody>\n",
       "    <tr>\n",
       "      <th>2002-10-01</th>\n",
       "      <td>10/01/2002</td>\n",
       "      <td>2002</td>\n",
       "      <td>274</td>\n",
       "      <td>1</td>\n",
       "      <td>10.4</td>\n",
       "      <td>17.2</td>\n",
       "      <td>5.6</td>\n",
       "      <td>2.29</td>\n",
       "    </tr>\n",
       "    <tr>\n",
       "      <th>2002-10-02</th>\n",
       "      <td>10/02/2002</td>\n",
       "      <td>2002</td>\n",
       "      <td>275</td>\n",
       "      <td>2</td>\n",
       "      <td>10.8</td>\n",
       "      <td>17.2</td>\n",
       "      <td>4.4</td>\n",
       "      <td>2.03</td>\n",
       "    </tr>\n",
       "    <tr>\n",
       "      <th>2002-10-03</th>\n",
       "      <td>10/03/2002</td>\n",
       "      <td>2002</td>\n",
       "      <td>276</td>\n",
       "      <td>3</td>\n",
       "      <td>5.6</td>\n",
       "      <td>10.0</td>\n",
       "      <td>0.6</td>\n",
       "      <td>0.00</td>\n",
       "    </tr>\n",
       "    <tr>\n",
       "      <th>2002-10-04</th>\n",
       "      <td>10/04/2002</td>\n",
       "      <td>2002</td>\n",
       "      <td>277</td>\n",
       "      <td>4</td>\n",
       "      <td>5.5</td>\n",
       "      <td>14.4</td>\n",
       "      <td>-3.9</td>\n",
       "      <td>0.00</td>\n",
       "    </tr>\n",
       "    <tr>\n",
       "      <th>2002-10-05</th>\n",
       "      <td>10/05/2002</td>\n",
       "      <td>2002</td>\n",
       "      <td>278</td>\n",
       "      <td>5</td>\n",
       "      <td>8.8</td>\n",
       "      <td>17.2</td>\n",
       "      <td>0.0</td>\n",
       "      <td>0.00</td>\n",
       "    </tr>\n",
       "  </tbody>\n",
       "</table>\n",
       "</div>"
      ],
      "text/plain": [
       "                  date  year  doy  dor  Tave  Tmax  Tmin     P\n",
       "2002-10-01  10/01/2002  2002  274    1  10.4  17.2   5.6  2.29\n",
       "2002-10-02  10/02/2002  2002  275    2  10.8  17.2   4.4  2.03\n",
       "2002-10-03  10/03/2002  2002  276    3   5.6  10.0   0.6  0.00\n",
       "2002-10-04  10/04/2002  2002  277    4   5.5  14.4  -3.9  0.00\n",
       "2002-10-05  10/05/2002  2002  278    5   8.8  17.2   0.0  0.00"
      ]
     },
     "execution_count": 6,
     "metadata": {},
     "output_type": "execute_result"
    }
   ],
   "source": [
    "jmz.head()"
   ]
  },
  {
   "cell_type": "code",
   "execution_count": 7,
   "metadata": {
    "collapsed": false
   },
   "outputs": [
    {
     "data": {
      "text/plain": [
       "[<matplotlib.lines.Line2D at 0x1174fbf10>]"
      ]
     },
     "execution_count": 7,
     "metadata": {},
     "output_type": "execute_result"
    },
    {
     "data": {
      "image/png": "[encoded data removed]",
      "text/plain": [
       "<matplotlib.figure.Figure at 0x10cd8fb50>"
      ]
     },
     "metadata": {},
     "output_type": "display_data"
    }
   ],
   "source": [
    "plt.plot(jmz.P)"
   ]
  },
  {
   "cell_type": "raw",
   "metadata": {},
   "source": [
    "cols = ['Date','year','doy','dor','solarRad','WSave','WD','WSmax','AirTave','AirTmax','AirTmin','RHave','RHmax','RHmin','P']"
   ]
  },
  {
   "cell_type": "code",
   "execution_count": 8,
   "metadata": {
    "collapsed": false
   },
   "outputs": [],
   "source": [
    "sl = pd.read_pickle('./data/p301/p301_P.pcl')"
   ]
  },
  {
   "cell_type": "raw",
   "metadata": {},
   "source": [
    "sl = pd.read_csv('../../greenness_timing/ca_met/RAWS_Shaver_lk_CA.tsv', skiprows=6, names=cols, index_col='Date',delim_whitespace=True)\n",
    "sl[sl == -9999.0] = np.NaN\n",
    "sl.index = pd.DatetimeIndex(sl.index)"
   ]
  },
  {
   "cell_type": "raw",
   "metadata": {},
   "source": [
    "sl_fill = sl.interpolate()\n",
    "sl_fill = sl_fill['1995-10-01':'2012-09-30']"
   ]
  },
  {
   "cell_type": "code",
   "execution_count": 9,
   "metadata": {
    "collapsed": false
   },
   "outputs": [
    {
     "name": "stdout",
     "output_type": "stream",
     "text": [
      "2007-10-01 00:00:00\n",
      "2014-09-30 00:00:00\n"
     ]
    }
   ],
   "source": [
    "print sl.index.min()\n",
    "print sl.index.max()"
   ]
  },
  {
   "cell_type": "code",
   "execution_count": 10,
   "metadata": {
    "collapsed": false
   },
   "outputs": [
    {
     "data": {
      "text/html": [
       "<div>\n",
       "<table border=\"1\" class=\"dataframe\">\n",
       "  <thead>\n",
       "    <tr style=\"text-align: right;\">\n",
       "      <th></th>\n",
       "      <th>P_lower</th>\n",
       "      <th>P_upper</th>\n",
       "    </tr>\n",
       "  </thead>\n",
       "  <tbody>\n",
       "    <tr>\n",
       "      <th>2007-10-01</th>\n",
       "      <td>0.0</td>\n",
       "      <td>0.0</td>\n",
       "    </tr>\n",
       "    <tr>\n",
       "      <th>2007-10-02</th>\n",
       "      <td>0.0</td>\n",
       "      <td>0.0</td>\n",
       "    </tr>\n",
       "    <tr>\n",
       "      <th>2007-10-03</th>\n",
       "      <td>0.0</td>\n",
       "      <td>0.0</td>\n",
       "    </tr>\n",
       "    <tr>\n",
       "      <th>2007-10-04</th>\n",
       "      <td>0.0</td>\n",
       "      <td>0.0</td>\n",
       "    </tr>\n",
       "    <tr>\n",
       "      <th>2007-10-05</th>\n",
       "      <td>5.0</td>\n",
       "      <td>14.0</td>\n",
       "    </tr>\n",
       "  </tbody>\n",
       "</table>\n",
       "</div>"
      ],
      "text/plain": [
       "            P_lower  P_upper\n",
       "2007-10-01      0.0      0.0\n",
       "2007-10-02      0.0      0.0\n",
       "2007-10-03      0.0      0.0\n",
       "2007-10-04      0.0      0.0\n",
       "2007-10-05      5.0     14.0"
      ]
     },
     "execution_count": 10,
     "metadata": {},
     "output_type": "execute_result"
    }
   ],
   "source": [
    "sl.head()"
   ]
  },
  {
   "cell_type": "code",
   "execution_count": 11,
   "metadata": {
    "collapsed": false
   },
   "outputs": [],
   "source": [
    "cc_fill = cc_fill[sl.index.min():sl.index.max()].copy()\n",
    "jmz = jmz[sl.index.min():sl.index.max()].copy()"
   ]
  },
  {
   "cell_type": "code",
   "execution_count": 12,
   "metadata": {
    "collapsed": false
   },
   "outputs": [
    {
     "name": "stderr",
     "output_type": "stream",
     "text": [
      "/Users/barnhatb/anaconda/lib/python2.7/site-packages/numpy/lib/function_base.py:3403: RuntimeWarning: Invalid value encountered in median\n",
      "  RuntimeWarning)\n"
     ]
    },
    {
     "data": {
      "text/html": [
       "<div>\n",
       "<table border=\"1\" class=\"dataframe\">\n",
       "  <thead>\n",
       "    <tr style=\"text-align: right;\">\n",
       "      <th></th>\n",
       "      <th>P</th>\n",
       "      <th>Qual_days</th>\n",
       "      <th>flag</th>\n",
       "    </tr>\n",
       "  </thead>\n",
       "  <tbody>\n",
       "    <tr>\n",
       "      <th>count</th>\n",
       "      <td>1918.000000</td>\n",
       "      <td>1918.0</td>\n",
       "      <td>0.0</td>\n",
       "    </tr>\n",
       "    <tr>\n",
       "      <th>mean</th>\n",
       "      <td>1.726277</td>\n",
       "      <td>1.0</td>\n",
       "      <td>NaN</td>\n",
       "    </tr>\n",
       "    <tr>\n",
       "      <th>std</th>\n",
       "      <td>3.973741</td>\n",
       "      <td>0.0</td>\n",
       "      <td>NaN</td>\n",
       "    </tr>\n",
       "    <tr>\n",
       "      <th>min</th>\n",
       "      <td>0.000000</td>\n",
       "      <td>1.0</td>\n",
       "      <td>NaN</td>\n",
       "    </tr>\n",
       "    <tr>\n",
       "      <th>25%</th>\n",
       "      <td>NaN</td>\n",
       "      <td>NaN</td>\n",
       "      <td>NaN</td>\n",
       "    </tr>\n",
       "    <tr>\n",
       "      <th>50%</th>\n",
       "      <td>NaN</td>\n",
       "      <td>NaN</td>\n",
       "      <td>NaN</td>\n",
       "    </tr>\n",
       "    <tr>\n",
       "      <th>75%</th>\n",
       "      <td>NaN</td>\n",
       "      <td>NaN</td>\n",
       "      <td>NaN</td>\n",
       "    </tr>\n",
       "    <tr>\n",
       "      <th>max</th>\n",
       "      <td>50.000000</td>\n",
       "      <td>1.0</td>\n",
       "      <td>NaN</td>\n",
       "    </tr>\n",
       "  </tbody>\n",
       "</table>\n",
       "</div>"
      ],
      "text/plain": [
       "                 P  Qual_days  flag\n",
       "count  1918.000000     1918.0   0.0\n",
       "mean      1.726277        1.0   NaN\n",
       "std       3.973741        0.0   NaN\n",
       "min       0.000000        1.0   NaN\n",
       "25%            NaN        NaN   NaN\n",
       "50%            NaN        NaN   NaN\n",
       "75%            NaN        NaN   NaN\n",
       "max      50.000000        1.0   NaN"
      ]
     },
     "execution_count": 12,
     "metadata": {},
     "output_type": "execute_result"
    }
   ],
   "source": [
    "cc_fill.describe()"
   ]
  },
  {
   "cell_type": "code",
   "execution_count": 13,
   "metadata": {
    "collapsed": false
   },
   "outputs": [],
   "source": [
    "sl_fill = sl"
   ]
  },
  {
   "cell_type": "markdown",
   "metadata": {},
   "source": [
    "QA/QC the P data"
   ]
  },
  {
   "cell_type": "code",
   "execution_count": 14,
   "metadata": {
    "collapsed": false
   },
   "outputs": [],
   "source": [
    "cc_fill.loc[cc_fill.P >= 180,'P'] = np.NaN\n",
    "sl_fill.loc[sl_fill.P_upper >= 180,'P_upper'] = np.NaN\n",
    "\n",
    "#cc_fill = cc_fill.interpolate()\n",
    "#sl_fill = sl_fill.interpolate()"
   ]
  },
  {
   "cell_type": "code",
   "execution_count": 15,
   "metadata": {
    "collapsed": false
   },
   "outputs": [],
   "source": [
    "cc2 = cc_fill.groupby(lambda x: x.week).mean()\n",
    "sl2 = sl_fill.groupby(lambda x: x.week).mean()\n",
    "jmz2 = jmz.groupby(lambda X: X.week).mean()"
   ]
  },
  {
   "cell_type": "code",
   "execution_count": 16,
   "metadata": {
    "collapsed": true
   },
   "outputs": [],
   "source": [
    "sl2['month'] = sl2.index/4.416\n",
    "cc2['month'] = cc2.index/4.416\n",
    "jmz2['month'] = jmz2.index/4.416"
   ]
  },
  {
   "cell_type": "raw",
   "metadata": {
    "collapsed": false,
    "scrolled": false
   },
   "source": [
    "plt.figure(figsize= (22,66))\n",
    "col = 'c'\n",
    "axfont = 45\n",
    "\n",
    "ylim = 15\n",
    "\n",
    "plt.subplot(3,1,1)\n",
    "plt.bar(cc2.month,cc2.P,edgecolor = col, facecolor = col);\n",
    "plt.axis('tight')\n",
    "plt.ylim([0,ylim])\n",
    "plt.text(1.6,14.3,'a C1, Niwot Ridge LTER, CO', fontsize = 60)\n",
    "ax1 = plt.gca();\n",
    "plt.setp(ax1.get_xticklabels(), fontsize=axfont);\n",
    "plt.setp(ax1.get_yticklabels(), fontsize=axfont);\n",
    "plt.ylabel('Mean Weekly Precipitation [mm]', fontsize = axfont+10);\n",
    "plt.xlabel('Week', fontsize = axfont+10);\n",
    "\n",
    "\n",
    "plt.subplot(3,1,2)\n",
    "plt.bar(sl2.month,sl2.P_upper,edgecolor = col, facecolor = col);\n",
    "plt.axis('tight')\n",
    "plt.ylim([0,ylim])\n",
    "plt.text(1.6,14.3,'b Providence Creek Upper, CA', fontsize = 60)\n",
    "ax2 = plt.gca();\n",
    "plt.setp(ax2.get_xticklabels(), fontsize=axfont);\n",
    "plt.setp(ax2.get_yticklabels(), fontsize=axfont);\n",
    "plt.ylabel('Mean Weekly Precipitation [mm]', fontsize = axfont+10);\n",
    "plt.xlabel('Week', fontsize = axfont+10);\n",
    "\n",
    "plt.subplot(3,1,3)\n",
    "plt.bar(jmz2.month,jmz2.P,edgecolor = col, facecolor = col);\n",
    "plt.axis('tight')\n",
    "plt.ylim([0,ylim])\n",
    "plt.text(1.6,14.3,'c Jemez RAWS, NM', fontsize = 60)\n",
    "ax2 = plt.gca();\n",
    "plt.setp(ax2.get_xticklabels(), fontsize=axfont);\n",
    "plt.setp(ax2.get_yticklabels(), fontsize=axfont);\n",
    "plt.ylabel('Mean Weekly Precipitation [mm]', fontsize = axfont+10);\n",
    "plt.xlabel('Week', fontsize = axfont+10);\n",
    "\n",
    "#plt.savefig('./figures/cc_p301_JMZ_P_climatology.pdf',transparent = True, bbox_inches = 'tight')\n",
    "#plt.savefig('./figures/cc_p301_JMZ_P_climatology.png',dpi=300, bbox_inches = 'tight')"
   ]
  },
  {
   "cell_type": "code",
   "execution_count": 27,
   "metadata": {
    "collapsed": false
   },
   "outputs": [
    {
     "data": {
      "text/html": [
       "<div>\n",
       "<table border=\"1\" class=\"dataframe\">\n",
       "  <thead>\n",
       "    <tr style=\"text-align: right;\">\n",
       "      <th></th>\n",
       "      <th>P_lower</th>\n",
       "      <th>P_upper</th>\n",
       "    </tr>\n",
       "  </thead>\n",
       "  <tbody>\n",
       "    <tr>\n",
       "      <th>2014-09-26</th>\n",
       "      <td>0.00</td>\n",
       "      <td>0.00</td>\n",
       "    </tr>\n",
       "    <tr>\n",
       "      <th>2014-09-27</th>\n",
       "      <td>2.86</td>\n",
       "      <td>6.68</td>\n",
       "    </tr>\n",
       "    <tr>\n",
       "      <th>2014-09-28</th>\n",
       "      <td>19.05</td>\n",
       "      <td>21.12</td>\n",
       "    </tr>\n",
       "    <tr>\n",
       "      <th>2014-09-29</th>\n",
       "      <td>0.00</td>\n",
       "      <td>0.00</td>\n",
       "    </tr>\n",
       "    <tr>\n",
       "      <th>2014-09-30</th>\n",
       "      <td>0.00</td>\n",
       "      <td>0.00</td>\n",
       "    </tr>\n",
       "  </tbody>\n",
       "</table>\n",
       "</div>"
      ],
      "text/plain": [
       "            P_lower  P_upper\n",
       "2014-09-26     0.00     0.00\n",
       "2014-09-27     2.86     6.68\n",
       "2014-09-28    19.05    21.12\n",
       "2014-09-29     0.00     0.00\n",
       "2014-09-30     0.00     0.00"
      ]
     },
     "execution_count": 27,
     "metadata": {},
     "output_type": "execute_result"
    }
   ],
   "source": [
    "sl.tail()"
   ]
  },
  {
   "cell_type": "code",
   "execution_count": 20,
   "metadata": {
    "collapsed": false
   },
   "outputs": [
    {
     "data": {
      "image/png": "[encoded data removed]",
      "text/plain": [
       "<matplotlib.figure.Figure at 0x11c7d7690>"
      ]
     },
     "metadata": {},
     "output_type": "display_data"
    }
   ],
   "source": [
    "plt.figure(figsize= (12,5))\n",
    "facecol = 'c'\n",
    "edgecol = 'k'\n",
    "axfont = 14\n",
    "\n",
    "ylim = 15.5\n",
    "yloc = 14.2\n",
    "xloc = 0.8\n",
    "\n",
    "plt.subplot(1,2,1)\n",
    "plt.bar(cc2.month,cc2.P,width=1/4.416,edgecolor = edgecol, facecolor = facecol, linewidth=0.5);\n",
    "plt.axis('tight')\n",
    "plt.ylim([0,ylim])\n",
    "plt.text(xloc,yloc,'d: CO', fontsize = axfont+2)\n",
    "ax1 = plt.gca();\n",
    "#ax1.set_xticklabels()\n",
    "plt.setp(ax1.get_xticklabels(), fontsize=axfont);\n",
    "plt.setp(ax1.get_yticklabels(), fontsize=axfont);\n",
    "plt.ylabel('Mean Weekly Precipitation [mm]', fontsize = axfont);\n",
    "plt.xlabel('Month', fontsize = axfont);\n",
    "\n",
    "\n",
    "plt.subplot(1,2,2)\n",
    "plt.bar(sl2.month,sl2.P_upper,width=1/4.416,edgecolor = edgecol, facecolor = facecol, linewidth=0.5);\n",
    "plt.axis('tight')\n",
    "plt.ylim([0,ylim])\n",
    "plt.text(xloc,yloc,'e: CA', fontsize = axfont+2)\n",
    "ax2 = plt.gca();\n",
    "plt.setp(ax2.get_xticklabels(), fontsize=axfont);\n",
    "plt.setp(ax2.get_yticklabels(), fontsize=axfont);\n",
    "#plt.ylabel('Mean Weekly Precipitation [mm]', fontsize = axfont);\n",
    "plt.xlabel('Month', fontsize = axfont);\n",
    "\n",
    "#plt.subplot(1,3,3)\n",
    "#plt.bar(jmz2.month,jmz2.P,width=1/4.416,edgecolor = edgecol, facecolor = facecol, linewidth=0.5);\n",
    "#plt.axis('tight')\n",
    "#plt.ylim([0,ylim])\n",
    "#plt.text(xloc,yloc,'f: NM', fontsize = axfont+2)\n",
    "#ax2 = plt.gca();\n",
    "#plt.setp(ax2.get_xticklabels(), fontsize=axfont);\n",
    "#plt.setp(ax2.get_yticklabels(), fontsize=axfont);\n",
    "#plt.ylabel('Mean Weekly Precipitation [mm]', fontsize = axfont);\n",
    "#plt.xlabel('Month', fontsize = axfont);\n",
    "\n",
    "#plt.savefig('./figures/cc_p301_JMZ_P_climatology.pdf',transparent = True, bbox_inches = 'tight')\n",
    "#plt.savefig('./figures/cc_p301_JMZ_P_climatology.png',dpi=300, bbox_inches = 'tight')"
   ]
  },
  {
   "cell_type": "code",
   "execution_count": 23,
   "metadata": {
    "collapsed": false
   },
   "outputs": [
    {
     "data": {
      "text/plain": [
       "count    2922.000000\n",
       "mean        2.066554\n",
       "std        44.427609\n",
       "min         0.000000\n",
       "25%         0.000000\n",
       "50%         0.000000\n",
       "75%         0.250000\n",
       "max      2394.000000\n",
       "Name: P, dtype: float64"
      ]
     },
     "execution_count": 23,
     "metadata": {},
     "output_type": "execute_result"
    }
   ],
   "source": [
    "s"
   ]
  },
  {
   "cell_type": "code",
   "execution_count": null,
   "metadata": {
    "collapsed": true
   },
   "outputs": [],
   "source": []
  }
 ],
 "metadata": {
  "kernelspec": {
   "display_name": "Python 2",
   "language": "python",
   "name": "python2"
  },
  "language_info": {
   "codemirror_mode": {
    "name": "ipython",
    "version": 2
   },
   "file_extension": ".py",
   "mimetype": "text/x-python",
   "name": "python",
   "nbconvert_exporter": "python",
   "pygments_lexer": "ipython2",
   "version": "2.7.12"
  }
 },
 "nbformat": 4,
 "nbformat_minor": 0
}
