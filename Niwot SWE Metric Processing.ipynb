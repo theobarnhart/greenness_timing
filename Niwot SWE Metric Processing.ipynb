{
 "cells": [
  {
   "cell_type": "code",
   "execution_count": 1,
   "metadata": {
    "collapsed": false
   },
   "outputs": [],
   "source": [
    "%matplotlib inline\n",
    "\n",
    "import numpy as np\n",
    "import pandas as pd\n",
    "import pylab\n",
    "import matplotlib.pyplot as plt\n",
    "import scipy as sp\n",
    "import glob\n",
    "\n",
    "pylab.rcParams['figure.figsize'] = (22.0, 11.0)"
   ]
  },
  {
   "cell_type": "code",
   "execution_count": 9,
   "metadata": {
    "collapsed": false
   },
   "outputs": [],
   "source": [
    "#niwot = pd.read_pickle('/Users/barnhatb/Dropbox/CUB/ET magnitude and snowmelt/data/snotel/niwot_663/niwot.pcl')\n",
    "niwot = pd.read_pickle('./data/niwot_snotel.pcl')\n",
    "niwot.swe *= 2.54 # convert from inches to cm\n",
    "niwot.swe *= 10. # convert from cm to mm"
   ]
  },
  {
   "cell_type": "code",
   "execution_count": 10,
   "metadata": {
    "collapsed": false
   },
   "outputs": [
    {
     "data": {
      "text/html": [
       "<div style=\"max-height:1000px;max-width:1500px;overflow:auto;\">\n",
       "<table border=\"1\" class=\"dataframe\">\n",
       "  <thead>\n",
       "    <tr style=\"text-align: right;\">\n",
       "      <th></th>\n",
       "      <th>swe</th>\n",
       "      <th>precip_accum</th>\n",
       "      <th>ATmax</th>\n",
       "      <th>ATmin</th>\n",
       "      <th>ATave</th>\n",
       "      <th>precip</th>\n",
       "    </tr>\n",
       "  </thead>\n",
       "  <tbody>\n",
       "    <tr>\n",
       "      <th>count</th>\n",
       "      <td> 12321.00000</td>\n",
       "      <td> 12321.000000</td>\n",
       "      <td> 9034.000000</td>\n",
       "      <td> 9034.000000</td>\n",
       "      <td> 9034.000000</td>\n",
       "      <td> 12321.000000</td>\n",
       "    </tr>\n",
       "    <tr>\n",
       "      <th>mean</th>\n",
       "      <td>   108.68318</td>\n",
       "      <td>    15.432278</td>\n",
       "      <td>    9.502558</td>\n",
       "      <td>   -4.235635</td>\n",
       "      <td>    1.834243</td>\n",
       "      <td>     0.002224</td>\n",
       "    </tr>\n",
       "    <tr>\n",
       "      <th>std</th>\n",
       "      <td>   128.52590</td>\n",
       "      <td>    10.555857</td>\n",
       "      <td>    9.993307</td>\n",
       "      <td>    7.470492</td>\n",
       "      <td>    7.996622</td>\n",
       "      <td>     0.004892</td>\n",
       "    </tr>\n",
       "    <tr>\n",
       "      <th>min</th>\n",
       "      <td>     0.00000</td>\n",
       "      <td>     0.000000</td>\n",
       "      <td>  -22.777778</td>\n",
       "      <td>  -47.777778</td>\n",
       "      <td>  -25.000000</td>\n",
       "      <td>     0.000000</td>\n",
       "    </tr>\n",
       "    <tr>\n",
       "      <th>25%</th>\n",
       "      <td>     0.00000</td>\n",
       "      <td>     6.000000</td>\n",
       "      <td>    1.666667</td>\n",
       "      <td>   -9.444444</td>\n",
       "      <td>   -3.888889</td>\n",
       "      <td>     0.000000</td>\n",
       "    </tr>\n",
       "    <tr>\n",
       "      <th>50%</th>\n",
       "      <td>    48.26000</td>\n",
       "      <td>    14.500000</td>\n",
       "      <td>    9.444444</td>\n",
       "      <td>   -3.333333</td>\n",
       "      <td>    1.666667</td>\n",
       "      <td>     0.000000</td>\n",
       "    </tr>\n",
       "    <tr>\n",
       "      <th>75%</th>\n",
       "      <td>   198.12000</td>\n",
       "      <td>    24.500000</td>\n",
       "      <td>   17.777778</td>\n",
       "      <td>    1.111111</td>\n",
       "      <td>    8.333333</td>\n",
       "      <td>     0.002540</td>\n",
       "    </tr>\n",
       "    <tr>\n",
       "      <th>max</th>\n",
       "      <td>   535.94000</td>\n",
       "      <td>    41.700000</td>\n",
       "      <td>   46.666667</td>\n",
       "      <td>   13.888889</td>\n",
       "      <td>   19.444444</td>\n",
       "      <td>     0.076200</td>\n",
       "    </tr>\n",
       "  </tbody>\n",
       "</table>\n",
       "</div>"
      ],
      "text/plain": [
       "               swe  precip_accum        ATmax        ATmin        ATave  \\\n",
       "count  12321.00000  12321.000000  9034.000000  9034.000000  9034.000000   \n",
       "mean     108.68318     15.432278     9.502558    -4.235635     1.834243   \n",
       "std      128.52590     10.555857     9.993307     7.470492     7.996622   \n",
       "min        0.00000      0.000000   -22.777778   -47.777778   -25.000000   \n",
       "25%        0.00000      6.000000     1.666667    -9.444444    -3.888889   \n",
       "50%       48.26000     14.500000     9.444444    -3.333333     1.666667   \n",
       "75%      198.12000     24.500000    17.777778     1.111111     8.333333   \n",
       "max      535.94000     41.700000    46.666667    13.888889    19.444444   \n",
       "\n",
       "             precip  \n",
       "count  12321.000000  \n",
       "mean       0.002224  \n",
       "std        0.004892  \n",
       "min        0.000000  \n",
       "25%        0.000000  \n",
       "50%        0.000000  \n",
       "75%        0.002540  \n",
       "max        0.076200  "
      ]
     },
     "execution_count": 10,
     "metadata": {},
     "output_type": "execute_result"
    }
   ],
   "source": [
    "niwot.describe()"
   ]
  },
  {
   "cell_type": "code",
   "execution_count": 24,
   "metadata": {
    "collapsed": false
   },
   "outputs": [
    {
     "name": "stdout",
     "output_type": "stream",
     "text": [
      "Calendar Years: [2005 2006 2007 2008 2009 2010 2011]\n",
      "Water Years: [2006 2007 2008 2009 2010 2011]\n"
     ]
    }
   ],
   "source": [
    "years = np.unique(niwot.index.year)[25:-3]\n",
    "print 'Calendar Years: '+ str(years)\n",
    "wyears = years[1:]\n",
    "print 'Water Years: ' + str(wyears)"
   ]
  },
  {
   "cell_type": "code",
   "execution_count": 25,
   "metadata": {
    "collapsed": false
   },
   "outputs": [],
   "source": [
    "cols = ['peakswe','peakswedate','snowfreedate','ablationrate','ablationseason', 'growseasonlength']\n",
    "SWE = pd.DataFrame(np.zeros([len(wyears),len(cols)]), index=wyears, columns=cols)"
   ]
  },
  {
   "cell_type": "code",
   "execution_count": 26,
   "metadata": {
    "collapsed": false
   },
   "outputs": [
    {
     "data": {
      "text/html": [
       "<div style=\"max-height:1000px;max-width:1500px;overflow:auto;\">\n",
       "<table border=\"1\" class=\"dataframe\">\n",
       "  <thead>\n",
       "    <tr style=\"text-align: right;\">\n",
       "      <th></th>\n",
       "      <th>peakswe</th>\n",
       "      <th>peakswedate</th>\n",
       "      <th>snowfreedate</th>\n",
       "      <th>ablationrate</th>\n",
       "      <th>ablationseason</th>\n",
       "      <th>growseasonlength</th>\n",
       "    </tr>\n",
       "  </thead>\n",
       "  <tbody>\n",
       "    <tr>\n",
       "      <th>2006</th>\n",
       "      <td> 0</td>\n",
       "      <td> 0</td>\n",
       "      <td> 0</td>\n",
       "      <td> 0</td>\n",
       "      <td> 0</td>\n",
       "      <td> 0</td>\n",
       "    </tr>\n",
       "    <tr>\n",
       "      <th>2007</th>\n",
       "      <td> 0</td>\n",
       "      <td> 0</td>\n",
       "      <td> 0</td>\n",
       "      <td> 0</td>\n",
       "      <td> 0</td>\n",
       "      <td> 0</td>\n",
       "    </tr>\n",
       "    <tr>\n",
       "      <th>2008</th>\n",
       "      <td> 0</td>\n",
       "      <td> 0</td>\n",
       "      <td> 0</td>\n",
       "      <td> 0</td>\n",
       "      <td> 0</td>\n",
       "      <td> 0</td>\n",
       "    </tr>\n",
       "    <tr>\n",
       "      <th>2009</th>\n",
       "      <td> 0</td>\n",
       "      <td> 0</td>\n",
       "      <td> 0</td>\n",
       "      <td> 0</td>\n",
       "      <td> 0</td>\n",
       "      <td> 0</td>\n",
       "    </tr>\n",
       "    <tr>\n",
       "      <th>2010</th>\n",
       "      <td> 0</td>\n",
       "      <td> 0</td>\n",
       "      <td> 0</td>\n",
       "      <td> 0</td>\n",
       "      <td> 0</td>\n",
       "      <td> 0</td>\n",
       "    </tr>\n",
       "    <tr>\n",
       "      <th>2011</th>\n",
       "      <td> 0</td>\n",
       "      <td> 0</td>\n",
       "      <td> 0</td>\n",
       "      <td> 0</td>\n",
       "      <td> 0</td>\n",
       "      <td> 0</td>\n",
       "    </tr>\n",
       "  </tbody>\n",
       "</table>\n",
       "</div>"
      ],
      "text/plain": [
       "      peakswe  peakswedate  snowfreedate  ablationrate  ablationseason  \\\n",
       "2006        0            0             0             0               0   \n",
       "2007        0            0             0             0               0   \n",
       "2008        0            0             0             0               0   \n",
       "2009        0            0             0             0               0   \n",
       "2010        0            0             0             0               0   \n",
       "2011        0            0             0             0               0   \n",
       "\n",
       "      growseasonlength  \n",
       "2006                 0  \n",
       "2007                 0  \n",
       "2008                 0  \n",
       "2009                 0  \n",
       "2010                 0  \n",
       "2011                 0  "
      ]
     },
     "execution_count": 26,
     "metadata": {},
     "output_type": "execute_result"
    }
   ],
   "source": [
    "SWE"
   ]
  },
  {
   "cell_type": "code",
   "execution_count": 27,
   "metadata": {
    "collapsed": false
   },
   "outputs": [],
   "source": [
    "for year in wyears:\n",
    "    SWE.loc[year,'peakswe'] = niwot.loc[\n",
    "str(year-1)+'-10-01':str(year)+'-09-30'].swe.max() # extract the peak swe for the water year selected\n",
    "    \n",
    "    SWE.loc[year,'peakswedate'] = niwot.loc[\n",
    "str(year-1)+'-10-01':str(year)+'-09-30'].swe.argmax() # extract the date of peak swe\n",
    "    \n",
    "    SWE.loc[year,'snowfreedate'] = niwot.loc[\n",
    "str(year)+'-01-01':str(year)+'-09-30'].swe.argmin() # extract the first snow free date\n",
    "    \n",
    "    timedelta = SWE.loc[year,'snowfreedate'] - SWE.loc[year,'peakswedate']\n",
    "\n",
    "    SWE.loc[year,'ablationrate'] = SWE.loc[year,'peakswe']/timedelta.days # [mm/day]\n",
    "    SWE.loc[year, 'ablationseason'] = int(timedelta.days)\n",
    "    \n",
    "    timedelta = pd.datetime.strptime(str(year)+'-09-30','%Y-%m-%d') - SWE.loc[year,'peakswedate']\n",
    "    \n",
    "    SWE.loc[year,'growseasonlength'] = timedelta.days"
   ]
  },
  {
   "cell_type": "code",
   "execution_count": 28,
   "metadata": {
    "collapsed": false
   },
   "outputs": [
    {
     "data": {
      "text/html": [
       "<div style=\"max-height:1000px;max-width:1500px;overflow:auto;\">\n",
       "<table border=\"1\" class=\"dataframe\">\n",
       "  <thead>\n",
       "    <tr style=\"text-align: right;\">\n",
       "      <th></th>\n",
       "      <th>peakswe</th>\n",
       "      <th>peakswedate</th>\n",
       "      <th>snowfreedate</th>\n",
       "      <th>ablationrate</th>\n",
       "      <th>ablationseason</th>\n",
       "      <th>growseasonlength</th>\n",
       "    </tr>\n",
       "  </thead>\n",
       "  <tbody>\n",
       "    <tr>\n",
       "      <th>2006</th>\n",
       "      <td> 325.12</td>\n",
       "      <td>2006-03-27</td>\n",
       "      <td>2006-05-17</td>\n",
       "      <td>  6.374902</td>\n",
       "      <td> 51</td>\n",
       "      <td> 187</td>\n",
       "    </tr>\n",
       "    <tr>\n",
       "      <th>2007</th>\n",
       "      <td> 454.66</td>\n",
       "      <td>2007-04-27</td>\n",
       "      <td>2007-06-03</td>\n",
       "      <td> 12.288108</td>\n",
       "      <td> 37</td>\n",
       "      <td> 156</td>\n",
       "    </tr>\n",
       "    <tr>\n",
       "      <th>2008</th>\n",
       "      <td> 378.46</td>\n",
       "      <td>2008-04-18</td>\n",
       "      <td>2008-06-02</td>\n",
       "      <td>  8.410222</td>\n",
       "      <td> 45</td>\n",
       "      <td> 165</td>\n",
       "    </tr>\n",
       "    <tr>\n",
       "      <th>2009</th>\n",
       "      <td> 406.40</td>\n",
       "      <td>2009-04-19</td>\n",
       "      <td>2009-05-25</td>\n",
       "      <td> 11.288889</td>\n",
       "      <td> 36</td>\n",
       "      <td> 164</td>\n",
       "    </tr>\n",
       "    <tr>\n",
       "      <th>2010</th>\n",
       "      <td> 317.50</td>\n",
       "      <td>2010-04-08</td>\n",
       "      <td>2010-06-02</td>\n",
       "      <td>  5.772727</td>\n",
       "      <td> 55</td>\n",
       "      <td> 175</td>\n",
       "    </tr>\n",
       "    <tr>\n",
       "      <th>2011</th>\n",
       "      <td> 431.80</td>\n",
       "      <td>2011-05-22</td>\n",
       "      <td>2011-06-13</td>\n",
       "      <td> 19.627273</td>\n",
       "      <td> 22</td>\n",
       "      <td> 131</td>\n",
       "    </tr>\n",
       "  </tbody>\n",
       "</table>\n",
       "</div>"
      ],
      "text/plain": [
       "      peakswe peakswedate snowfreedate  ablationrate  ablationseason  \\\n",
       "2006   325.12  2006-03-27   2006-05-17      6.374902              51   \n",
       "2007   454.66  2007-04-27   2007-06-03     12.288108              37   \n",
       "2008   378.46  2008-04-18   2008-06-02      8.410222              45   \n",
       "2009   406.40  2009-04-19   2009-05-25     11.288889              36   \n",
       "2010   317.50  2010-04-08   2010-06-02      5.772727              55   \n",
       "2011   431.80  2011-05-22   2011-06-13     19.627273              22   \n",
       "\n",
       "      growseasonlength  \n",
       "2006               187  \n",
       "2007               156  \n",
       "2008               165  \n",
       "2009               164  \n",
       "2010               175  \n",
       "2011               131  "
      ]
     },
     "execution_count": 28,
     "metadata": {},
     "output_type": "execute_result"
    }
   ],
   "source": [
    "SWE"
   ]
  },
  {
   "cell_type": "code",
   "execution_count": 29,
   "metadata": {
    "collapsed": false
   },
   "outputs": [],
   "source": [
    "#SWE.to_pickle('/Users/barnhatb/Theo/Volumes/Users/Theo/greenness_timing/niwot_snowpack_metrics.pcl')\n",
    "SWE.to_pickle('./data/niwot_snowpack_metrics.pcl')"
   ]
  },
  {
   "cell_type": "code",
   "execution_count": null,
   "metadata": {
    "collapsed": false
   },
   "outputs": [],
   "source": []
  }
 ],
 "metadata": {
  "kernelspec": {
   "display_name": "Python 2",
   "language": "python",
   "name": "python2"
  },
  "language_info": {
   "codemirror_mode": {
    "name": "ipython",
    "version": 2
   },
   "file_extension": ".py",
   "mimetype": "text/x-python",
   "name": "python",
   "nbconvert_exporter": "python",
   "pygments_lexer": "ipython2",
   "version": "2.7.11"
  }
 },
 "nbformat": 4,
 "nbformat_minor": 0
}
