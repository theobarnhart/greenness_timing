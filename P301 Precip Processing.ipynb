{
 "cells": [
  {
   "cell_type": "code",
   "execution_count": 1,
   "metadata": {
    "collapsed": false
   },
   "outputs": [],
   "source": [
    "import pandas as pd\n",
    "import numpy as np\n",
    "import glob\n",
    "import matplotlib.pyplot as plt\n",
    "%matplotlib inline"
   ]
  },
  {
   "cell_type": "markdown",
   "metadata": {},
   "source": [
    "Daily Precip [mm/day]\n",
    "\n",
    "Site is: KEW\n",
    "\n",
    "Station: PROVM10\n",
    "\n",
    "Flags:\n",
    "   - G: Good\n",
    "   - E: Error\n",
    "   - F: Filled"
   ]
  },
  {
   "cell_type": "code",
   "execution_count": 2,
   "metadata": {
    "collapsed": false
   },
   "outputs": [],
   "source": [
    "tmp = pd.read_csv('./ca_met/Providence_Creek/providence_crk_lower.csv')\n",
    "tmp.index = pd.DatetimeIndex(tmp.Date)\n",
    "del tmp['Date']\n",
    "del tmp['Site']\n",
    "del tmp['Station']\n",
    "\n",
    "tmp.columns = ['precip','flag']"
   ]
  },
  {
   "cell_type": "code",
   "execution_count": 3,
   "metadata": {
    "collapsed": false
   },
   "outputs": [],
   "source": [
    "# QA/QC the Data\n",
    "\n",
    "tmp.loc[tmp.flag != 'G','precip'] = 0.0\n",
    "tmp.loc[tmp.flag != 'G', 'flag'] = 'F'"
   ]
  },
  {
   "cell_type": "code",
   "execution_count": 4,
   "metadata": {
    "collapsed": false
   },
   "outputs": [],
   "source": [
    "tmp.to_pickle('./ca_met/Providence_Creek/providence_crk_lower.pcl')"
   ]
  },
  {
   "cell_type": "markdown",
   "metadata": {},
   "source": [
    "Daily Precip [mm/day]\n",
    "\n",
    "Site is: KEW\n",
    "\n",
    "Station: UPROVM15\n",
    "\n",
    "Flags:\n",
    "   - G: Good\n",
    "   - E: Error\n",
    "   - F: Filled"
   ]
  },
  {
   "cell_type": "code",
   "execution_count": 5,
   "metadata": {
    "collapsed": false
   },
   "outputs": [],
   "source": [
    "tmp = pd.read_csv('./ca_met/Providence_Creek/providence_crk_upper.csv')\n",
    "tmp.index = pd.DatetimeIndex(tmp.Date)\n",
    "del tmp['Date']\n",
    "del tmp['Site']\n",
    "del tmp['Station']\n",
    "\n",
    "tmp.columns = ['precip','flag']"
   ]
  },
  {
   "cell_type": "code",
   "execution_count": 6,
   "metadata": {
    "collapsed": false
   },
   "outputs": [],
   "source": [
    "# QA/QC the Data\n",
    "\n",
    "tmp.loc[tmp.flag != 'G','precip'] = 0.0\n",
    "tmp.loc[tmp.flag != 'G', 'flag'] = 'F'"
   ]
  },
  {
   "cell_type": "code",
   "execution_count": 7,
   "metadata": {
    "collapsed": false
   },
   "outputs": [],
   "source": [
    "tmp.to_pickle('./ca_met/Providence_Creek/providence_crk_upper.pcl')"
   ]
  }
 ],
 "metadata": {
  "kernelspec": {
   "display_name": "Python 2",
   "language": "python",
   "name": "python2"
  },
  "language_info": {
   "codemirror_mode": {
    "name": "ipython",
    "version": 2
   },
   "file_extension": ".py",
   "mimetype": "text/x-python",
   "name": "python",
   "nbconvert_exporter": "python",
   "pygments_lexer": "ipython2",
   "version": "2.7.11"
  }
 },
 "nbformat": 4,
 "nbformat_minor": 0
}
