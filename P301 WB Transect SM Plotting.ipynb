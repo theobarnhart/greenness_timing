{
 "metadata": {
  "name": "",
  "signature": "sha256:a589fb11d23e6e1d40086b78654083f22a41d04314ac94e941afb29f2c64b0b9"
 },
 "nbformat": 3,
 "nbformat_minor": 0,
 "worksheets": [
  {
   "cells": [
    {
     "cell_type": "code",
     "collapsed": false,
     "input": [
      "%matplotlib inline\n",
      "import numpy as np\n",
      "import pandas as pd\n",
      "import pylab\n",
      "import matplotlib.pyplot as plt\n",
      "import scipy as sp\n",
      "import glob"
     ],
     "language": "python",
     "metadata": {},
     "outputs": [],
     "prompt_number": 7
    },
    {
     "cell_type": "code",
     "collapsed": false,
     "input": [
      "cols = ['Soil Moisture 1','Soil Moisture 2','Soil Moisture 3','Soil Moisture 4']"
     ],
     "language": "python",
     "metadata": {},
     "outputs": [],
     "prompt_number": 8
    },
    {
     "cell_type": "markdown",
     "metadata": {},
     "source": [
      "## Load the data\n"
     ]
    },
    {
     "cell_type": "code",
     "collapsed": false,
     "input": [
      "wy10 = pd.read_pickle('./data/P301_WB_transect_wy2010.pcl')\n",
      "wy10 = wy10.filter(regex='19')\n",
      "wy10.columns = cols\n",
      "wy10.describe()"
     ],
     "language": "python",
     "metadata": {},
     "outputs": [
      {
       "html": [
        "<div style=\"max-height:1000px;max-width:1500px;overflow:auto;\">\n",
        "<table border=\"1\" class=\"dataframe\">\n",
        "  <thead>\n",
        "    <tr style=\"text-align: right;\">\n",
        "      <th></th>\n",
        "      <th>Soil Moisture 1</th>\n",
        "      <th>Soil Moisture 2</th>\n",
        "      <th>Soil Moisture 3</th>\n",
        "      <th>Soil Moisture 4</th>\n",
        "    </tr>\n",
        "  </thead>\n",
        "  <tbody>\n",
        "    <tr>\n",
        "      <th>count</th>\n",
        "      <td> 7902.000000</td>\n",
        "      <td> 7903.000000</td>\n",
        "      <td> 7436.000000</td>\n",
        "      <td> 7964.000000</td>\n",
        "    </tr>\n",
        "    <tr>\n",
        "      <th>mean</th>\n",
        "      <td>    0.205301</td>\n",
        "      <td>    0.208538</td>\n",
        "      <td>    0.420464</td>\n",
        "      <td>    0.253871</td>\n",
        "    </tr>\n",
        "    <tr>\n",
        "      <th>std</th>\n",
        "      <td>    0.059415</td>\n",
        "      <td>    0.056530</td>\n",
        "      <td>    0.060109</td>\n",
        "      <td>    0.045471</td>\n",
        "    </tr>\n",
        "    <tr>\n",
        "      <th>min</th>\n",
        "      <td>    0.102280</td>\n",
        "      <td>    0.106430</td>\n",
        "      <td>    0.296970</td>\n",
        "      <td>    0.159950</td>\n",
        "    </tr>\n",
        "    <tr>\n",
        "      <th>25%</th>\n",
        "      <td>    0.132582</td>\n",
        "      <td>    0.166310</td>\n",
        "      <td>    0.393100</td>\n",
        "      <td>    0.233490</td>\n",
        "    </tr>\n",
        "    <tr>\n",
        "      <th>50%</th>\n",
        "      <td>    0.229300</td>\n",
        "      <td>    0.218700</td>\n",
        "      <td>    0.442470</td>\n",
        "      <td>    0.264710</td>\n",
        "    </tr>\n",
        "    <tr>\n",
        "      <th>75%</th>\n",
        "      <td>    0.248860</td>\n",
        "      <td>    0.248860</td>\n",
        "      <td>    0.461880</td>\n",
        "      <td>    0.281983</td>\n",
        "    </tr>\n",
        "    <tr>\n",
        "      <th>max</th>\n",
        "      <td>    0.369900</td>\n",
        "      <td>    0.367010</td>\n",
        "      <td>    0.602020</td>\n",
        "      <td>    0.554710</td>\n",
        "    </tr>\n",
        "  </tbody>\n",
        "</table>\n",
        "</div>"
       ],
       "metadata": {},
       "output_type": "pyout",
       "prompt_number": 9,
       "text": [
        "       Soil Moisture 1  Soil Moisture 2  Soil Moisture 3  Soil Moisture 4\n",
        "count      7902.000000      7903.000000      7436.000000      7964.000000\n",
        "mean          0.205301         0.208538         0.420464         0.253871\n",
        "std           0.059415         0.056530         0.060109         0.045471\n",
        "min           0.102280         0.106430         0.296970         0.159950\n",
        "25%           0.132582         0.166310         0.393100         0.233490\n",
        "50%           0.229300         0.218700         0.442470         0.264710\n",
        "75%           0.248860         0.248860         0.461880         0.281983\n",
        "max           0.369900         0.367010         0.602020         0.554710"
       ]
      }
     ],
     "prompt_number": 9
    },
    {
     "cell_type": "code",
     "collapsed": false,
     "input": [
      "wy11 = pd.read_pickle('./data/P301_WB_transect_wy2011.pcl')\n",
      "wy11 = wy11.filter(regex='die')\n",
      "wy11 = wy11.filter(regex='19')\n",
      "wy11.columns = cols\n",
      "wy11.describe()"
     ],
     "language": "python",
     "metadata": {},
     "outputs": [
      {
       "html": [
        "<div style=\"max-height:1000px;max-width:1500px;overflow:auto;\">\n",
        "<table border=\"1\" class=\"dataframe\">\n",
        "  <thead>\n",
        "    <tr style=\"text-align: right;\">\n",
        "      <th></th>\n",
        "      <th>Soil Moisture 1</th>\n",
        "      <th>Soil Moisture 2</th>\n",
        "      <th>Soil Moisture 3</th>\n",
        "      <th>Soil Moisture 4</th>\n",
        "    </tr>\n",
        "  </thead>\n",
        "  <tbody>\n",
        "    <tr>\n",
        "      <th>count</th>\n",
        "      <td> 366.000000</td>\n",
        "      <td> 366.000000</td>\n",
        "      <td> 366.000000</td>\n",
        "      <td> 366.000000</td>\n",
        "    </tr>\n",
        "    <tr>\n",
        "      <th>mean</th>\n",
        "      <td>   0.169459</td>\n",
        "      <td>   0.122250</td>\n",
        "      <td>   0.149768</td>\n",
        "      <td>   0.155852</td>\n",
        "    </tr>\n",
        "    <tr>\n",
        "      <th>std</th>\n",
        "      <td>   0.049513</td>\n",
        "      <td>   0.039962</td>\n",
        "      <td>   0.038394</td>\n",
        "      <td>   0.034824</td>\n",
        "    </tr>\n",
        "    <tr>\n",
        "      <th>min</th>\n",
        "      <td>   0.079252</td>\n",
        "      <td>   0.046670</td>\n",
        "      <td>   0.068424</td>\n",
        "      <td>   0.088167</td>\n",
        "    </tr>\n",
        "    <tr>\n",
        "      <th>25%</th>\n",
        "      <td>   0.112808</td>\n",
        "      <td>   0.100332</td>\n",
        "      <td>   0.126045</td>\n",
        "      <td>   0.133480</td>\n",
        "    </tr>\n",
        "    <tr>\n",
        "      <th>50%</th>\n",
        "      <td>   0.181395</td>\n",
        "      <td>   0.131805</td>\n",
        "      <td>   0.158430</td>\n",
        "      <td>   0.165725</td>\n",
        "    </tr>\n",
        "    <tr>\n",
        "      <th>75%</th>\n",
        "      <td>   0.215430</td>\n",
        "      <td>   0.154895</td>\n",
        "      <td>   0.182512</td>\n",
        "      <td>   0.183812</td>\n",
        "    </tr>\n",
        "    <tr>\n",
        "      <th>max</th>\n",
        "      <td>   0.286540</td>\n",
        "      <td>   0.235530</td>\n",
        "      <td>   0.286630</td>\n",
        "      <td>   0.272950</td>\n",
        "    </tr>\n",
        "  </tbody>\n",
        "</table>\n",
        "</div>"
       ],
       "metadata": {},
       "output_type": "pyout",
       "prompt_number": 10,
       "text": [
        "       Soil Moisture 1  Soil Moisture 2  Soil Moisture 3  Soil Moisture 4\n",
        "count       366.000000       366.000000       366.000000       366.000000\n",
        "mean          0.169459         0.122250         0.149768         0.155852\n",
        "std           0.049513         0.039962         0.038394         0.034824\n",
        "min           0.079252         0.046670         0.068424         0.088167\n",
        "25%           0.112808         0.100332         0.126045         0.133480\n",
        "50%           0.181395         0.131805         0.158430         0.165725\n",
        "75%           0.215430         0.154895         0.182512         0.183812\n",
        "max           0.286540         0.235530         0.286630         0.272950"
       ]
      }
     ],
     "prompt_number": 10
    },
    {
     "cell_type": "code",
     "collapsed": false,
     "input": [
      "wy12 = pd.read_pickle('./data/P301_WB_transect_wy2012.pcl')\n",
      "wy12 = wy12.filter(regex='moist')\n",
      "wy12 = wy12.filter(regex='19')\n",
      "wy12.columns = cols\n",
      "wy12.describe()"
     ],
     "language": "python",
     "metadata": {},
     "outputs": [
      {
       "html": [
        "<div style=\"max-height:1000px;max-width:1500px;overflow:auto;\">\n",
        "<table border=\"1\" class=\"dataframe\">\n",
        "  <thead>\n",
        "    <tr style=\"text-align: right;\">\n",
        "      <th></th>\n",
        "      <th>Soil Moisture 1</th>\n",
        "      <th>Soil Moisture 2</th>\n",
        "      <th>Soil Moisture 3</th>\n",
        "      <th>Soil Moisture 4</th>\n",
        "    </tr>\n",
        "  </thead>\n",
        "  <tbody>\n",
        "    <tr>\n",
        "      <th>count</th>\n",
        "      <td> 8784.000000</td>\n",
        "      <td> 8784.000000</td>\n",
        "      <td> 8784.000000</td>\n",
        "      <td> 8784.000000</td>\n",
        "    </tr>\n",
        "    <tr>\n",
        "      <th>mean</th>\n",
        "      <td>    0.130195</td>\n",
        "      <td>    0.091424</td>\n",
        "      <td>    0.119500</td>\n",
        "      <td>    0.128501</td>\n",
        "    </tr>\n",
        "    <tr>\n",
        "      <th>std</th>\n",
        "      <td>    0.054024</td>\n",
        "      <td>    0.047919</td>\n",
        "      <td>    0.049966</td>\n",
        "      <td>    0.040389</td>\n",
        "    </tr>\n",
        "    <tr>\n",
        "      <th>min</th>\n",
        "      <td>    0.081943</td>\n",
        "      <td>    0.048915</td>\n",
        "      <td>    0.060665</td>\n",
        "      <td>    0.082295</td>\n",
        "    </tr>\n",
        "    <tr>\n",
        "      <th>25%</th>\n",
        "      <td>    0.091717</td>\n",
        "      <td>    0.054564</td>\n",
        "      <td>    0.078455</td>\n",
        "      <td>    0.093762</td>\n",
        "    </tr>\n",
        "    <tr>\n",
        "      <th>50%</th>\n",
        "      <td>    0.097067</td>\n",
        "      <td>    0.059692</td>\n",
        "      <td>    0.098547</td>\n",
        "      <td>    0.104539</td>\n",
        "    </tr>\n",
        "    <tr>\n",
        "      <th>75%</th>\n",
        "      <td>    0.193242</td>\n",
        "      <td>    0.148754</td>\n",
        "      <td>    0.171864</td>\n",
        "      <td>    0.173652</td>\n",
        "    </tr>\n",
        "    <tr>\n",
        "      <th>max</th>\n",
        "      <td>    0.345561</td>\n",
        "      <td>    0.251833</td>\n",
        "      <td>    0.317754</td>\n",
        "      <td>    0.233188</td>\n",
        "    </tr>\n",
        "  </tbody>\n",
        "</table>\n",
        "</div>"
       ],
       "metadata": {},
       "output_type": "pyout",
       "prompt_number": 11,
       "text": [
        "       Soil Moisture 1  Soil Moisture 2  Soil Moisture 3  Soil Moisture 4\n",
        "count      8784.000000      8784.000000      8784.000000      8784.000000\n",
        "mean          0.130195         0.091424         0.119500         0.128501\n",
        "std           0.054024         0.047919         0.049966         0.040389\n",
        "min           0.081943         0.048915         0.060665         0.082295\n",
        "25%           0.091717         0.054564         0.078455         0.093762\n",
        "50%           0.097067         0.059692         0.098547         0.104539\n",
        "75%           0.193242         0.148754         0.171864         0.173652\n",
        "max           0.345561         0.251833         0.317754         0.233188"
       ]
      }
     ],
     "prompt_number": 11
    },
    {
     "cell_type": "code",
     "collapsed": false,
     "input": [
      "data = pd.concat([wy10,wy11,wy12])"
     ],
     "language": "python",
     "metadata": {},
     "outputs": [],
     "prompt_number": 12
    },
    {
     "cell_type": "code",
     "collapsed": false,
     "input": [
      "data = data.resample('D', how=np.nanmean)"
     ],
     "language": "python",
     "metadata": {},
     "outputs": [
      {
       "output_type": "stream",
       "stream": "stderr",
       "text": [
        "/Users/barnhatb/anaconda/lib/python2.7/site-packages/numpy/lib/nanfunctions.py:598: RuntimeWarning: Mean of empty slice\n",
        "  warnings.warn(\"Mean of empty slice\", RuntimeWarning)\n"
       ]
      }
     ],
     "prompt_number": 13
    },
    {
     "cell_type": "code",
     "collapsed": false,
     "input": [
      "axtickfont = 20\n",
      "axlabelfont = 22\n",
      "\n",
      "fig = plt.figure(figsize=[22.0,5.0])\n",
      "plt.plot(data.index,data.filter(regex='1')*100,'c',lw=2);\n",
      "plt.xlim(['2009-10-01','2012-09-30'])\n",
      "plt.ylim([0,70]);\n",
      "\n",
      "plt.title('Providence Creek, CA', fontsize=axlabelfont+2);\n",
      "plt.ylabel('VWC [%]', fontsize = axlabelfont);\n",
      "ax = plt.gca();\n",
      "plt.setp(ax.get_xticklabels(), fontsize=axtickfont);\n",
      "plt.setp(ax.get_yticklabels(), fontsize=axtickfont);\n",
      "plt.savefig('./figures/agu14_figs/AFX_SWC.pdf', bbox_inches = 'tight')\n",
      "\n",
      "plt.savefig('./figures/agu14_figs/p301_WB_transect_n18sm1.pdf',bbox_inches='tight',transparent=True)"
     ],
     "language": "python",
     "metadata": {},
     "outputs": [
      {
       "metadata": {},
       "output_type": "display_data",
       "png": "[encoded data removed]",
       "text": [
        "<matplotlib.figure.Figure at 0x109c19e90>"
       ]
      }
     ],
     "prompt_number": 18
    },
    {
     "cell_type": "code",
     "collapsed": false,
     "input": [
      "wys = [2010,2011,2012]\n",
      "\n",
      "for wy in wys:\n",
      "    print data.loc[str(wy-1)+'-10-01':str(wy)+'-09-30','Soil Moisture 1'].max()*100.\n",
      "    "
     ],
     "language": "python",
     "metadata": {},
     "outputs": [
      {
       "output_type": "stream",
       "stream": "stdout",
       "text": [
        "34.4174210526\n",
        "28.654\n",
        "28.3438491958\n"
       ]
      }
     ],
     "prompt_number": 17
    },
    {
     "cell_type": "code",
     "collapsed": false,
     "input": [],
     "language": "python",
     "metadata": {},
     "outputs": []
    }
   ],
   "metadata": {}
  }
 ]
}