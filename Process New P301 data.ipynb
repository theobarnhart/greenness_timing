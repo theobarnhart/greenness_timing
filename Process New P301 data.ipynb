{
 "cells": [
  {
   "cell_type": "code",
   "execution_count": 1,
   "metadata": {
    "collapsed": true
   },
   "outputs": [],
   "source": [
    " fl = './data/p301/from_safeeq/P301_data__Theo.xlsx'"
   ]
  },
  {
   "cell_type": "code",
   "execution_count": 2,
   "metadata": {
    "collapsed": true
   },
   "outputs": [],
   "source": [
    "# Read in discharge in [L/s]\n",
    "Q = pd.read_excel(fl,sheetname='discharge')\n",
    "Q.columns = ['datetime','Q','Q_flag']"
   ]
  },
  {
   "cell_type": "code",
   "execution_count": 3,
   "metadata": {
    "collapsed": true
   },
   "outputs": [],
   "source": [
    "# Read in air temperature [C]\n",
    "temp = pd.read_excel(fl,sheetname='Temperature')\n",
    "temp.columns = ['datetime','Tmax_upper','Tmax_upper_flag','Tmax_lower','Tmax_lower_flag','Tmin_upper',\n",
    "                'Tmin_upper_flag','Tmin_lower','Tmin_lower_flag']"
   ]
  },
  {
   "cell_type": "code",
   "execution_count": 4,
   "metadata": {
    "collapsed": true
   },
   "outputs": [],
   "source": [
    "# Read in precipitation [mm/day]\n",
    "P = pd.read_excel(fl,sheetname='Precip')\n",
    "P.columns = ['datetime','P_lower','P_upper']"
   ]
  },
  {
   "cell_type": "code",
   "execution_count": 5,
   "metadata": {
    "collapsed": true
   },
   "outputs": [],
   "source": [
    "# read in snow depth # cm\n",
    "SD = pd.read_excel(fl,sheetname='snow_depth')\n",
    "SD.columns = ['datetime','SD_lower','SD_lower_flag','SD_upper','SD_upper_flag']"
   ]
  },
  {
   "cell_type": "code",
   "execution_count": 6,
   "metadata": {
    "collapsed": false
   },
   "outputs": [
    {
     "data": {
      "text/html": [
       "<div>\n",
       "<table border=\"1\" class=\"dataframe\">\n",
       "  <thead>\n",
       "    <tr style=\"text-align: right;\">\n",
       "      <th></th>\n",
       "      <th>datetime</th>\n",
       "      <th>SD_lower</th>\n",
       "      <th>SD_lower_flag</th>\n",
       "      <th>SD_upper</th>\n",
       "      <th>SD_upper_flag</th>\n",
       "    </tr>\n",
       "  </thead>\n",
       "  <tbody>\n",
       "    <tr>\n",
       "      <th>0</th>\n",
       "      <td>2007-10-01</td>\n",
       "      <td>0.0</td>\n",
       "      <td>A</td>\n",
       "      <td>0.0</td>\n",
       "      <td>A</td>\n",
       "    </tr>\n",
       "    <tr>\n",
       "      <th>1</th>\n",
       "      <td>2007-10-02</td>\n",
       "      <td>0.0</td>\n",
       "      <td>A</td>\n",
       "      <td>0.0</td>\n",
       "      <td>A</td>\n",
       "    </tr>\n",
       "    <tr>\n",
       "      <th>2</th>\n",
       "      <td>2007-10-03</td>\n",
       "      <td>0.0</td>\n",
       "      <td>A</td>\n",
       "      <td>0.0</td>\n",
       "      <td>A</td>\n",
       "    </tr>\n",
       "    <tr>\n",
       "      <th>3</th>\n",
       "      <td>2007-10-04</td>\n",
       "      <td>0.0</td>\n",
       "      <td>A</td>\n",
       "      <td>0.0</td>\n",
       "      <td>A</td>\n",
       "    </tr>\n",
       "    <tr>\n",
       "      <th>4</th>\n",
       "      <td>2007-10-05</td>\n",
       "      <td>0.0</td>\n",
       "      <td>A</td>\n",
       "      <td>0.0</td>\n",
       "      <td>A</td>\n",
       "    </tr>\n",
       "  </tbody>\n",
       "</table>\n",
       "</div>"
      ],
      "text/plain": [
       "    datetime  SD_lower SD_lower_flag  SD_upper SD_upper_flag\n",
       "0 2007-10-01       0.0             A       0.0             A\n",
       "1 2007-10-02       0.0             A       0.0             A\n",
       "2 2007-10-03       0.0             A       0.0             A\n",
       "3 2007-10-04       0.0             A       0.0             A\n",
       "4 2007-10-05       0.0             A       0.0             A"
      ]
     },
     "execution_count": 6,
     "metadata": {},
     "output_type": "execute_result"
    }
   ],
   "source": [
    "SD.head()"
   ]
  },
  {
   "cell_type": "code",
   "execution_count": 7,
   "metadata": {
    "collapsed": true
   },
   "outputs": [],
   "source": [
    "fl = './data/p301/from_safeeq/UP_snowpillow_swe.xlsx'"
   ]
  },
  {
   "cell_type": "code",
   "execution_count": 10,
   "metadata": {
    "collapsed": true
   },
   "outputs": [],
   "source": [
    "SWE = pd.read_excel(fl) # SWE in [mm]\n",
    "SWE.columns = ['datetime','SWE']"
   ]
  },
  {
   "cell_type": "code",
   "execution_count": 16,
   "metadata": {
    "collapsed": true
   },
   "outputs": [],
   "source": [
    "df = pd.merge(Q, temp, on = 'datetime')"
   ]
  },
  {
   "cell_type": "code",
   "execution_count": 17,
   "metadata": {
    "collapsed": true
   },
   "outputs": [],
   "source": [
    "df = pd.merge(df, P, on = 'datetime')"
   ]
  },
  {
   "cell_type": "code",
   "execution_count": 18,
   "metadata": {
    "collapsed": true
   },
   "outputs": [],
   "source": [
    "df = pd.merge(df, SD, on = 'datetime')"
   ]
  },
  {
   "cell_type": "code",
   "execution_count": 19,
   "metadata": {
    "collapsed": true
   },
   "outputs": [],
   "source": [
    "df = pd.merge(df, SWE, on = 'datetime')"
   ]
  },
  {
   "cell_type": "code",
   "execution_count": 21,
   "metadata": {
    "collapsed": false
   },
   "outputs": [
    {
     "data": {
      "text/html": [
       "<div>\n",
       "<table border=\"1\" class=\"dataframe\">\n",
       "  <thead>\n",
       "    <tr style=\"text-align: right;\">\n",
       "      <th></th>\n",
       "      <th>datetime</th>\n",
       "      <th>Q</th>\n",
       "      <th>Q_flag</th>\n",
       "      <th>Tmax_upper</th>\n",
       "      <th>Tmax_upper_flag</th>\n",
       "      <th>Tmax_lower</th>\n",
       "      <th>Tmax_lower_flag</th>\n",
       "      <th>Tmin_upper</th>\n",
       "      <th>Tmin_upper_flag</th>\n",
       "      <th>Tmin_lower</th>\n",
       "      <th>Tmin_lower_flag</th>\n",
       "      <th>P_lower</th>\n",
       "      <th>P_upper</th>\n",
       "      <th>SD_lower</th>\n",
       "      <th>SD_lower_flag</th>\n",
       "      <th>SD_upper</th>\n",
       "      <th>SD_upper_flag</th>\n",
       "      <th>SWE</th>\n",
       "    </tr>\n",
       "  </thead>\n",
       "  <tbody>\n",
       "    <tr>\n",
       "      <th>0</th>\n",
       "      <td>2010-10-01</td>\n",
       "      <td>1.517748</td>\n",
       "      <td>A</td>\n",
       "      <td>22.630</td>\n",
       "      <td>A</td>\n",
       "      <td>23.20</td>\n",
       "      <td>A</td>\n",
       "      <td>11.990</td>\n",
       "      <td>A</td>\n",
       "      <td>11.940</td>\n",
       "      <td>A</td>\n",
       "      <td>0.00</td>\n",
       "      <td>2.86</td>\n",
       "      <td>0.0</td>\n",
       "      <td>A</td>\n",
       "      <td>0.0</td>\n",
       "      <td>A</td>\n",
       "      <td>0.0</td>\n",
       "    </tr>\n",
       "    <tr>\n",
       "      <th>1</th>\n",
       "      <td>2010-10-02</td>\n",
       "      <td>1.694949</td>\n",
       "      <td>A</td>\n",
       "      <td>20.880</td>\n",
       "      <td>A</td>\n",
       "      <td>23.00</td>\n",
       "      <td>A</td>\n",
       "      <td>10.650</td>\n",
       "      <td>A</td>\n",
       "      <td>10.480</td>\n",
       "      <td>A</td>\n",
       "      <td>3.15</td>\n",
       "      <td>4.71</td>\n",
       "      <td>0.0</td>\n",
       "      <td>A</td>\n",
       "      <td>0.0</td>\n",
       "      <td>A</td>\n",
       "      <td>0.0</td>\n",
       "    </tr>\n",
       "    <tr>\n",
       "      <th>2</th>\n",
       "      <td>2010-10-03</td>\n",
       "      <td>5.865811</td>\n",
       "      <td>A</td>\n",
       "      <td>15.670</td>\n",
       "      <td>A</td>\n",
       "      <td>16.27</td>\n",
       "      <td>A</td>\n",
       "      <td>8.520</td>\n",
       "      <td>A</td>\n",
       "      <td>10.140</td>\n",
       "      <td>A</td>\n",
       "      <td>33.32</td>\n",
       "      <td>26.34</td>\n",
       "      <td>0.0</td>\n",
       "      <td>A</td>\n",
       "      <td>0.0</td>\n",
       "      <td>A</td>\n",
       "      <td>0.0</td>\n",
       "    </tr>\n",
       "    <tr>\n",
       "      <th>3</th>\n",
       "      <td>2010-10-04</td>\n",
       "      <td>19.511043</td>\n",
       "      <td>A</td>\n",
       "      <td>9.390</td>\n",
       "      <td>A</td>\n",
       "      <td>10.88</td>\n",
       "      <td>A</td>\n",
       "      <td>2.366</td>\n",
       "      <td>A</td>\n",
       "      <td>4.608</td>\n",
       "      <td>A</td>\n",
       "      <td>63.87</td>\n",
       "      <td>70.80</td>\n",
       "      <td>0.0</td>\n",
       "      <td>A</td>\n",
       "      <td>0.0</td>\n",
       "      <td>A</td>\n",
       "      <td>0.0</td>\n",
       "    </tr>\n",
       "    <tr>\n",
       "      <th>4</th>\n",
       "      <td>2010-10-05</td>\n",
       "      <td>6.766141</td>\n",
       "      <td>A</td>\n",
       "      <td>6.321</td>\n",
       "      <td>A</td>\n",
       "      <td>7.74</td>\n",
       "      <td>A</td>\n",
       "      <td>1.897</td>\n",
       "      <td>A</td>\n",
       "      <td>2.339</td>\n",
       "      <td>A</td>\n",
       "      <td>16.52</td>\n",
       "      <td>7.58</td>\n",
       "      <td>0.0</td>\n",
       "      <td>A</td>\n",
       "      <td>0.0</td>\n",
       "      <td>A</td>\n",
       "      <td>0.0</td>\n",
       "    </tr>\n",
       "  </tbody>\n",
       "</table>\n",
       "</div>"
      ],
      "text/plain": [
       "    datetime          Q Q_flag  Tmax_upper Tmax_upper_flag  Tmax_lower  \\\n",
       "0 2010-10-01   1.517748      A      22.630               A       23.20   \n",
       "1 2010-10-02   1.694949      A      20.880               A       23.00   \n",
       "2 2010-10-03   5.865811      A      15.670               A       16.27   \n",
       "3 2010-10-04  19.511043      A       9.390               A       10.88   \n",
       "4 2010-10-05   6.766141      A       6.321               A        7.74   \n",
       "\n",
       "  Tmax_lower_flag  Tmin_upper Tmin_upper_flag  Tmin_lower Tmin_lower_flag  \\\n",
       "0               A      11.990               A      11.940               A   \n",
       "1               A      10.650               A      10.480               A   \n",
       "2               A       8.520               A      10.140               A   \n",
       "3               A       2.366               A       4.608               A   \n",
       "4               A       1.897               A       2.339               A   \n",
       "\n",
       "   P_lower  P_upper  SD_lower SD_lower_flag  SD_upper SD_upper_flag  SWE  \n",
       "0     0.00     2.86       0.0             A       0.0             A  0.0  \n",
       "1     3.15     4.71       0.0             A       0.0             A  0.0  \n",
       "2    33.32    26.34       0.0             A       0.0             A  0.0  \n",
       "3    63.87    70.80       0.0             A       0.0             A  0.0  \n",
       "4    16.52     7.58       0.0             A       0.0             A  0.0  "
      ]
     },
     "execution_count": 21,
     "metadata": {},
     "output_type": "execute_result"
    }
   ],
   "source": [
    "df.head()"
   ]
  },
  {
   "cell_type": "code",
   "execution_count": 22,
   "metadata": {
    "collapsed": false
   },
   "outputs": [
    {
     "data": {
      "text/html": [
       "<div>\n",
       "<table border=\"1\" class=\"dataframe\">\n",
       "  <thead>\n",
       "    <tr style=\"text-align: right;\">\n",
       "      <th></th>\n",
       "      <th>datetime</th>\n",
       "      <th>Q</th>\n",
       "      <th>Q_flag</th>\n",
       "      <th>Tmax_upper</th>\n",
       "      <th>Tmax_upper_flag</th>\n",
       "      <th>Tmax_lower</th>\n",
       "      <th>Tmax_lower_flag</th>\n",
       "      <th>Tmin_upper</th>\n",
       "      <th>Tmin_upper_flag</th>\n",
       "      <th>Tmin_lower</th>\n",
       "      <th>Tmin_lower_flag</th>\n",
       "      <th>P_lower</th>\n",
       "      <th>P_upper</th>\n",
       "      <th>SD_lower</th>\n",
       "      <th>SD_lower_flag</th>\n",
       "      <th>SD_upper</th>\n",
       "      <th>SD_upper_flag</th>\n",
       "      <th>SWE</th>\n",
       "    </tr>\n",
       "  </thead>\n",
       "  <tbody>\n",
       "    <tr>\n",
       "      <th>1821</th>\n",
       "      <td>2015-09-26</td>\n",
       "      <td>0.0</td>\n",
       "      <td>A</td>\n",
       "      <td>24.70</td>\n",
       "      <td>A</td>\n",
       "      <td>26.025948</td>\n",
       "      <td>A</td>\n",
       "      <td>16.29</td>\n",
       "      <td>A</td>\n",
       "      <td>12.961261</td>\n",
       "      <td>A</td>\n",
       "      <td>0.0</td>\n",
       "      <td>0.0</td>\n",
       "      <td>0.0</td>\n",
       "      <td>A</td>\n",
       "      <td>0.0</td>\n",
       "      <td>A</td>\n",
       "      <td>0.0</td>\n",
       "    </tr>\n",
       "    <tr>\n",
       "      <th>1822</th>\n",
       "      <td>2015-09-27</td>\n",
       "      <td>0.0</td>\n",
       "      <td>A</td>\n",
       "      <td>21.96</td>\n",
       "      <td>A</td>\n",
       "      <td>23.264091</td>\n",
       "      <td>A</td>\n",
       "      <td>14.15</td>\n",
       "      <td>A</td>\n",
       "      <td>11.144454</td>\n",
       "      <td>A</td>\n",
       "      <td>0.0</td>\n",
       "      <td>0.0</td>\n",
       "      <td>0.0</td>\n",
       "      <td>A</td>\n",
       "      <td>0.0</td>\n",
       "      <td>A</td>\n",
       "      <td>0.0</td>\n",
       "    </tr>\n",
       "    <tr>\n",
       "      <th>1823</th>\n",
       "      <td>2015-09-28</td>\n",
       "      <td>0.0</td>\n",
       "      <td>A</td>\n",
       "      <td>23.24</td>\n",
       "      <td>A</td>\n",
       "      <td>23.670000</td>\n",
       "      <td>A</td>\n",
       "      <td>13.68</td>\n",
       "      <td>A</td>\n",
       "      <td>13.600000</td>\n",
       "      <td>A</td>\n",
       "      <td>0.0</td>\n",
       "      <td>0.0</td>\n",
       "      <td>0.0</td>\n",
       "      <td>A</td>\n",
       "      <td>0.0</td>\n",
       "      <td>A</td>\n",
       "      <td>0.0</td>\n",
       "    </tr>\n",
       "    <tr>\n",
       "      <th>1824</th>\n",
       "      <td>2015-09-29</td>\n",
       "      <td>0.0</td>\n",
       "      <td>A</td>\n",
       "      <td>21.22</td>\n",
       "      <td>A</td>\n",
       "      <td>22.518189</td>\n",
       "      <td>A</td>\n",
       "      <td>13.68</td>\n",
       "      <td>A</td>\n",
       "      <td>10.745435</td>\n",
       "      <td>A</td>\n",
       "      <td>0.0</td>\n",
       "      <td>0.0</td>\n",
       "      <td>0.0</td>\n",
       "      <td>A</td>\n",
       "      <td>0.0</td>\n",
       "      <td>A</td>\n",
       "      <td>0.0</td>\n",
       "    </tr>\n",
       "    <tr>\n",
       "      <th>1825</th>\n",
       "      <td>2015-09-30</td>\n",
       "      <td>0.0</td>\n",
       "      <td>A</td>\n",
       "      <td>20.36</td>\n",
       "      <td>A</td>\n",
       "      <td>20.130000</td>\n",
       "      <td>A</td>\n",
       "      <td>11.87</td>\n",
       "      <td>A</td>\n",
       "      <td>11.940000</td>\n",
       "      <td>A</td>\n",
       "      <td>0.0</td>\n",
       "      <td>0.0</td>\n",
       "      <td>0.0</td>\n",
       "      <td>A</td>\n",
       "      <td>0.0</td>\n",
       "      <td>A</td>\n",
       "      <td>0.0</td>\n",
       "    </tr>\n",
       "  </tbody>\n",
       "</table>\n",
       "</div>"
      ],
      "text/plain": [
       "       datetime    Q Q_flag  Tmax_upper Tmax_upper_flag  Tmax_lower  \\\n",
       "1821 2015-09-26  0.0      A       24.70               A   26.025948   \n",
       "1822 2015-09-27  0.0      A       21.96               A   23.264091   \n",
       "1823 2015-09-28  0.0      A       23.24               A   23.670000   \n",
       "1824 2015-09-29  0.0      A       21.22               A   22.518189   \n",
       "1825 2015-09-30  0.0      A       20.36               A   20.130000   \n",
       "\n",
       "     Tmax_lower_flag  Tmin_upper Tmin_upper_flag  Tmin_lower Tmin_lower_flag  \\\n",
       "1821               A       16.29               A   12.961261               A   \n",
       "1822               A       14.15               A   11.144454               A   \n",
       "1823               A       13.68               A   13.600000               A   \n",
       "1824               A       13.68               A   10.745435               A   \n",
       "1825               A       11.87               A   11.940000               A   \n",
       "\n",
       "      P_lower  P_upper  SD_lower SD_lower_flag  SD_upper SD_upper_flag  SWE  \n",
       "1821      0.0      0.0       0.0             A       0.0             A  0.0  \n",
       "1822      0.0      0.0       0.0             A       0.0             A  0.0  \n",
       "1823      0.0      0.0       0.0             A       0.0             A  0.0  \n",
       "1824      0.0      0.0       0.0             A       0.0             A  0.0  \n",
       "1825      0.0      0.0       0.0             A       0.0             A  0.0  "
      ]
     },
     "execution_count": 22,
     "metadata": {},
     "output_type": "execute_result"
    }
   ],
   "source": [
    "df.tail()"
   ]
  },
  {
   "cell_type": "code",
   "execution_count": 23,
   "metadata": {
    "collapsed": true
   },
   "outputs": [],
   "source": [
    "df.to_pickle('./data/p301/new_providence.pcl')"
   ]
  },
  {
   "cell_type": "code",
   "execution_count": null,
   "metadata": {
    "collapsed": true
   },
   "outputs": [],
   "source": []
  }
 ],
 "metadata": {
  "kernelspec": {
   "display_name": "Python 2",
   "language": "python",
   "name": "python2"
  },
  "language_info": {
   "codemirror_mode": {
    "name": "ipython",
    "version": 2
   },
   "file_extension": ".py",
   "mimetype": "text/x-python",
   "name": "python",
   "nbconvert_exporter": "python",
   "pygments_lexer": "ipython2",
   "version": "2.7.12"
  }
 },
 "nbformat": 4,
 "nbformat_minor": 0
}
