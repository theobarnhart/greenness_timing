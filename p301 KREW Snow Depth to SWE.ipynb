{
 "cells": [
  {
   "cell_type": "code",
   "execution_count": 1,
   "metadata": {
    "collapsed": false
   },
   "outputs": [],
   "source": [
    "import pandas as pd\n",
    "import numpy as np"
   ]
  },
  {
   "cell_type": "code",
   "execution_count": 2,
   "metadata": {
    "collapsed": false
   },
   "outputs": [],
   "source": [
    "tmp = pd.read_csv('./data/p301/p301_snow_depth.csv', names=['date','SD_lower','SD_Lflag','SD_upper','SD_Uflag'],header=False)\n",
    "tmp.index = pd.DatetimeIndex(tmp.date)\n",
    "del tmp['date']"
   ]
  },
  {
   "cell_type": "code",
   "execution_count": 3,
   "metadata": {
    "collapsed": false
   },
   "outputs": [
    {
     "data": {
      "text/html": [
       "<div style=\"max-height:1000px;max-width:1500px;overflow:auto;\">\n",
       "<table border=\"1\" class=\"dataframe\">\n",
       "  <thead>\n",
       "    <tr style=\"text-align: right;\">\n",
       "      <th></th>\n",
       "      <th>SD_lower</th>\n",
       "      <th>SD_Lflag</th>\n",
       "      <th>SD_upper</th>\n",
       "      <th>SD_Uflag</th>\n",
       "    </tr>\n",
       "  </thead>\n",
       "  <tbody>\n",
       "    <tr>\n",
       "      <th>2007-10-01</th>\n",
       "      <td> 0</td>\n",
       "      <td> A</td>\n",
       "      <td> 0</td>\n",
       "      <td> A</td>\n",
       "    </tr>\n",
       "    <tr>\n",
       "      <th>2007-10-02</th>\n",
       "      <td> 0</td>\n",
       "      <td> A</td>\n",
       "      <td> 0</td>\n",
       "      <td> A</td>\n",
       "    </tr>\n",
       "    <tr>\n",
       "      <th>2007-10-03</th>\n",
       "      <td> 0</td>\n",
       "      <td> A</td>\n",
       "      <td> 0</td>\n",
       "      <td> A</td>\n",
       "    </tr>\n",
       "    <tr>\n",
       "      <th>2007-10-04</th>\n",
       "      <td> 0</td>\n",
       "      <td> A</td>\n",
       "      <td> 0</td>\n",
       "      <td> A</td>\n",
       "    </tr>\n",
       "    <tr>\n",
       "      <th>2007-10-05</th>\n",
       "      <td> 0</td>\n",
       "      <td> A</td>\n",
       "      <td> 0</td>\n",
       "      <td> A</td>\n",
       "    </tr>\n",
       "  </tbody>\n",
       "</table>\n",
       "</div>"
      ],
      "text/plain": [
       "            SD_lower SD_Lflag  SD_upper SD_Uflag\n",
       "2007-10-01         0        A         0        A\n",
       "2007-10-02         0        A         0        A\n",
       "2007-10-03         0        A         0        A\n",
       "2007-10-04         0        A         0        A\n",
       "2007-10-05         0        A         0        A"
      ]
     },
     "execution_count": 3,
     "metadata": {},
     "output_type": "execute_result"
    }
   ],
   "source": [
    "tmp.head()"
   ]
  },
  {
   "cell_type": "code",
   "execution_count": 4,
   "metadata": {
    "collapsed": false
   },
   "outputs": [],
   "source": [
    "# function that converts SD to SWE for SS CZO from Safeeq\n",
    "def sd2swe(sd):\n",
    "    return 0.2993*sd+1.1697"
   ]
  },
  {
   "cell_type": "code",
   "execution_count": 5,
   "metadata": {
    "collapsed": false
   },
   "outputs": [],
   "source": [
    "tmp['SWE_lower'] = sd2swe(tmp.SD_lower)"
   ]
  },
  {
   "cell_type": "code",
   "execution_count": 6,
   "metadata": {
    "collapsed": false
   },
   "outputs": [],
   "source": [
    "tmp['SWE_upper'] = sd2swe(tmp.SD_upper)"
   ]
  },
  {
   "cell_type": "code",
   "execution_count": 7,
   "metadata": {
    "collapsed": false
   },
   "outputs": [],
   "source": [
    "tmp.loc[tmp.SD_lower==0,'SWE_lower'] = 0.\n",
    "tmp.loc[tmp.SD_upper==0,'SWE_upper'] = 0."
   ]
  },
  {
   "cell_type": "code",
   "execution_count": 8,
   "metadata": {
    "collapsed": false
   },
   "outputs": [
    {
     "data": {
      "text/html": [
       "<div style=\"max-height:1000px;max-width:1500px;overflow:auto;\">\n",
       "<table border=\"1\" class=\"dataframe\">\n",
       "  <thead>\n",
       "    <tr style=\"text-align: right;\">\n",
       "      <th></th>\n",
       "      <th>SD_lower</th>\n",
       "      <th>SD_Lflag</th>\n",
       "      <th>SD_upper</th>\n",
       "      <th>SD_Uflag</th>\n",
       "      <th>SWE_lower</th>\n",
       "      <th>SWE_upper</th>\n",
       "    </tr>\n",
       "  </thead>\n",
       "  <tbody>\n",
       "    <tr>\n",
       "      <th>2007-10-01</th>\n",
       "      <td> 0</td>\n",
       "      <td> A</td>\n",
       "      <td> 0</td>\n",
       "      <td> A</td>\n",
       "      <td> 0</td>\n",
       "      <td> 0</td>\n",
       "    </tr>\n",
       "    <tr>\n",
       "      <th>2007-10-02</th>\n",
       "      <td> 0</td>\n",
       "      <td> A</td>\n",
       "      <td> 0</td>\n",
       "      <td> A</td>\n",
       "      <td> 0</td>\n",
       "      <td> 0</td>\n",
       "    </tr>\n",
       "    <tr>\n",
       "      <th>2007-10-03</th>\n",
       "      <td> 0</td>\n",
       "      <td> A</td>\n",
       "      <td> 0</td>\n",
       "      <td> A</td>\n",
       "      <td> 0</td>\n",
       "      <td> 0</td>\n",
       "    </tr>\n",
       "    <tr>\n",
       "      <th>2007-10-04</th>\n",
       "      <td> 0</td>\n",
       "      <td> A</td>\n",
       "      <td> 0</td>\n",
       "      <td> A</td>\n",
       "      <td> 0</td>\n",
       "      <td> 0</td>\n",
       "    </tr>\n",
       "    <tr>\n",
       "      <th>2007-10-05</th>\n",
       "      <td> 0</td>\n",
       "      <td> A</td>\n",
       "      <td> 0</td>\n",
       "      <td> A</td>\n",
       "      <td> 0</td>\n",
       "      <td> 0</td>\n",
       "    </tr>\n",
       "  </tbody>\n",
       "</table>\n",
       "</div>"
      ],
      "text/plain": [
       "            SD_lower SD_Lflag  SD_upper SD_Uflag  SWE_lower  SWE_upper\n",
       "2007-10-01         0        A         0        A          0          0\n",
       "2007-10-02         0        A         0        A          0          0\n",
       "2007-10-03         0        A         0        A          0          0\n",
       "2007-10-04         0        A         0        A          0          0\n",
       "2007-10-05         0        A         0        A          0          0"
      ]
     },
     "execution_count": 8,
     "metadata": {},
     "output_type": "execute_result"
    }
   ],
   "source": [
    "tmp.head()"
   ]
  },
  {
   "cell_type": "code",
   "execution_count": 11,
   "metadata": {
    "collapsed": false
   },
   "outputs": [],
   "source": [
    "tmp.to_pickle('./data/p301/p301_SWE.pcl')"
   ]
  }
 ],
 "metadata": {
  "kernelspec": {
   "display_name": "Python 2",
   "language": "python",
   "name": "python2"
  },
  "language_info": {
   "codemirror_mode": {
    "name": "ipython",
    "version": 2
   },
   "file_extension": ".py",
   "mimetype": "text/x-python",
   "name": "python",
   "nbconvert_exporter": "python",
   "pygments_lexer": "ipython2",
   "version": "2.7.11"
  }
 },
 "nbformat": 4,
 "nbformat_minor": 0
}
